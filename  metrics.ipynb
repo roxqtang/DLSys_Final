{
 "cells": [
  {
   "cell_type": "code",
   "execution_count": 1,
   "metadata": {},
   "outputs": [
    {
     "name": "stdout",
     "output_type": "stream",
     "text": [
      "Requirement already satisfied: transformers in /scratch/qt2094/anaconda3/envs/DocAssist/lib/python3.9/site-packages (4.47.0)\n",
      "Requirement already satisfied: filelock in /scratch/qt2094/anaconda3/envs/DocAssist/lib/python3.9/site-packages (from transformers) (3.13.1)\n",
      "Requirement already satisfied: huggingface-hub<1.0,>=0.24.0 in /scratch/qt2094/anaconda3/envs/DocAssist/lib/python3.9/site-packages (from transformers) (0.27.0)\n",
      "Requirement already satisfied: numpy>=1.17 in /scratch/qt2094/anaconda3/envs/DocAssist/lib/python3.9/site-packages (from transformers) (2.0.1)\n",
      "Requirement already satisfied: packaging>=20.0 in /scratch/qt2094/anaconda3/envs/DocAssist/lib/python3.9/site-packages (from transformers) (24.1)\n",
      "Requirement already satisfied: pyyaml>=5.1 in /scratch/qt2094/anaconda3/envs/DocAssist/lib/python3.9/site-packages (from transformers) (6.0.2)\n",
      "Requirement already satisfied: regex!=2019.12.17 in /scratch/qt2094/anaconda3/envs/DocAssist/lib/python3.9/site-packages (from transformers) (2024.11.6)\n",
      "Requirement already satisfied: requests in /scratch/qt2094/anaconda3/envs/DocAssist/lib/python3.9/site-packages (from transformers) (2.32.3)\n",
      "Requirement already satisfied: tokenizers<0.22,>=0.21 in /scratch/qt2094/anaconda3/envs/DocAssist/lib/python3.9/site-packages (from transformers) (0.21.0)\n",
      "Requirement already satisfied: safetensors>=0.4.1 in /scratch/qt2094/anaconda3/envs/DocAssist/lib/python3.9/site-packages (from transformers) (0.4.5)\n",
      "Requirement already satisfied: tqdm>=4.27 in /scratch/qt2094/anaconda3/envs/DocAssist/lib/python3.9/site-packages (from transformers) (4.67.1)\n",
      "Requirement already satisfied: fsspec>=2023.5.0 in /scratch/qt2094/anaconda3/envs/DocAssist/lib/python3.9/site-packages (from huggingface-hub<1.0,>=0.24.0->transformers) (2024.6.1)\n",
      "Requirement already satisfied: typing-extensions>=3.7.4.3 in /scratch/qt2094/anaconda3/envs/DocAssist/lib/python3.9/site-packages (from huggingface-hub<1.0,>=0.24.0->transformers) (4.11.0)\n",
      "Requirement already satisfied: charset-normalizer<4,>=2 in /scratch/qt2094/anaconda3/envs/DocAssist/lib/python3.9/site-packages (from requests->transformers) (3.3.2)\n",
      "Requirement already satisfied: idna<4,>=2.5 in /scratch/qt2094/anaconda3/envs/DocAssist/lib/python3.9/site-packages (from requests->transformers) (3.10)\n",
      "Requirement already satisfied: urllib3<3,>=1.21.1 in /scratch/qt2094/anaconda3/envs/DocAssist/lib/python3.9/site-packages (from requests->transformers) (2.2.3)\n",
      "Requirement already satisfied: certifi>=2017.4.17 in /scratch/qt2094/anaconda3/envs/DocAssist/lib/python3.9/site-packages (from requests->transformers) (2024.12.14)\n",
      "Requirement already satisfied: datasets in /scratch/qt2094/anaconda3/envs/DocAssist/lib/python3.9/site-packages (3.2.0)\n",
      "Requirement already satisfied: filelock in /scratch/qt2094/anaconda3/envs/DocAssist/lib/python3.9/site-packages (from datasets) (3.13.1)\n",
      "Requirement already satisfied: numpy>=1.17 in /scratch/qt2094/anaconda3/envs/DocAssist/lib/python3.9/site-packages (from datasets) (2.0.1)\n",
      "Requirement already satisfied: pyarrow>=15.0.0 in /scratch/qt2094/anaconda3/envs/DocAssist/lib/python3.9/site-packages (from datasets) (18.1.0)\n",
      "Requirement already satisfied: dill<0.3.9,>=0.3.0 in /scratch/qt2094/anaconda3/envs/DocAssist/lib/python3.9/site-packages (from datasets) (0.3.8)\n",
      "Requirement already satisfied: pandas in /scratch/qt2094/anaconda3/envs/DocAssist/lib/python3.9/site-packages (from datasets) (2.2.3)\n",
      "Requirement already satisfied: requests>=2.32.2 in /scratch/qt2094/anaconda3/envs/DocAssist/lib/python3.9/site-packages (from datasets) (2.32.3)\n",
      "Requirement already satisfied: tqdm>=4.66.3 in /scratch/qt2094/anaconda3/envs/DocAssist/lib/python3.9/site-packages (from datasets) (4.67.1)\n",
      "Requirement already satisfied: xxhash in /scratch/qt2094/anaconda3/envs/DocAssist/lib/python3.9/site-packages (from datasets) (3.5.0)\n",
      "Requirement already satisfied: multiprocess<0.70.17 in /scratch/qt2094/anaconda3/envs/DocAssist/lib/python3.9/site-packages (from datasets) (0.70.16)\n",
      "Requirement already satisfied: fsspec<=2024.9.0,>=2023.1.0 in /scratch/qt2094/anaconda3/envs/DocAssist/lib/python3.9/site-packages (from fsspec[http]<=2024.9.0,>=2023.1.0->datasets) (2024.6.1)\n",
      "Requirement already satisfied: aiohttp in /scratch/qt2094/anaconda3/envs/DocAssist/lib/python3.9/site-packages (from datasets) (3.11.10)\n",
      "Requirement already satisfied: huggingface-hub>=0.23.0 in /scratch/qt2094/anaconda3/envs/DocAssist/lib/python3.9/site-packages (from datasets) (0.27.0)\n",
      "Requirement already satisfied: packaging in /scratch/qt2094/anaconda3/envs/DocAssist/lib/python3.9/site-packages (from datasets) (24.1)\n",
      "Requirement already satisfied: pyyaml>=5.1 in /scratch/qt2094/anaconda3/envs/DocAssist/lib/python3.9/site-packages (from datasets) (6.0.2)\n",
      "Requirement already satisfied: aiohappyeyeballs>=2.3.0 in /scratch/qt2094/anaconda3/envs/DocAssist/lib/python3.9/site-packages (from aiohttp->datasets) (2.4.4)\n",
      "Requirement already satisfied: aiosignal>=1.1.2 in /scratch/qt2094/anaconda3/envs/DocAssist/lib/python3.9/site-packages (from aiohttp->datasets) (1.3.2)\n",
      "Requirement already satisfied: async-timeout<6.0,>=4.0 in /scratch/qt2094/anaconda3/envs/DocAssist/lib/python3.9/site-packages (from aiohttp->datasets) (5.0.1)\n",
      "Requirement already satisfied: attrs>=17.3.0 in /scratch/qt2094/anaconda3/envs/DocAssist/lib/python3.9/site-packages (from aiohttp->datasets) (24.2.0)\n",
      "Requirement already satisfied: frozenlist>=1.1.1 in /scratch/qt2094/anaconda3/envs/DocAssist/lib/python3.9/site-packages (from aiohttp->datasets) (1.5.0)\n",
      "Requirement already satisfied: multidict<7.0,>=4.5 in /scratch/qt2094/anaconda3/envs/DocAssist/lib/python3.9/site-packages (from aiohttp->datasets) (6.1.0)\n",
      "Requirement already satisfied: propcache>=0.2.0 in /scratch/qt2094/anaconda3/envs/DocAssist/lib/python3.9/site-packages (from aiohttp->datasets) (0.2.1)\n",
      "Requirement already satisfied: yarl<2.0,>=1.17.0 in /scratch/qt2094/anaconda3/envs/DocAssist/lib/python3.9/site-packages (from aiohttp->datasets) (1.18.3)\n",
      "Requirement already satisfied: typing-extensions>=3.7.4.3 in /scratch/qt2094/anaconda3/envs/DocAssist/lib/python3.9/site-packages (from huggingface-hub>=0.23.0->datasets) (4.11.0)\n",
      "Requirement already satisfied: charset-normalizer<4,>=2 in /scratch/qt2094/anaconda3/envs/DocAssist/lib/python3.9/site-packages (from requests>=2.32.2->datasets) (3.3.2)\n",
      "Requirement already satisfied: idna<4,>=2.5 in /scratch/qt2094/anaconda3/envs/DocAssist/lib/python3.9/site-packages (from requests>=2.32.2->datasets) (3.10)\n",
      "Requirement already satisfied: urllib3<3,>=1.21.1 in /scratch/qt2094/anaconda3/envs/DocAssist/lib/python3.9/site-packages (from requests>=2.32.2->datasets) (2.2.3)\n",
      "Requirement already satisfied: certifi>=2017.4.17 in /scratch/qt2094/anaconda3/envs/DocAssist/lib/python3.9/site-packages (from requests>=2.32.2->datasets) (2024.12.14)\n",
      "Requirement already satisfied: python-dateutil>=2.8.2 in /scratch/qt2094/anaconda3/envs/DocAssist/lib/python3.9/site-packages (from pandas->datasets) (2.9.0.post0)\n",
      "Requirement already satisfied: pytz>=2020.1 in /scratch/qt2094/anaconda3/envs/DocAssist/lib/python3.9/site-packages (from pandas->datasets) (2024.1)\n",
      "Requirement already satisfied: tzdata>=2022.7 in /scratch/qt2094/anaconda3/envs/DocAssist/lib/python3.9/site-packages (from pandas->datasets) (2024.2)\n",
      "Requirement already satisfied: six>=1.5 in /scratch/qt2094/anaconda3/envs/DocAssist/lib/python3.9/site-packages (from python-dateutil>=2.8.2->pandas->datasets) (1.16.0)\n",
      "Requirement already satisfied: huggingface_hub in /scratch/qt2094/anaconda3/envs/DocAssist/lib/python3.9/site-packages (0.27.0)\n",
      "Requirement already satisfied: filelock in /scratch/qt2094/anaconda3/envs/DocAssist/lib/python3.9/site-packages (from huggingface_hub) (3.13.1)\n",
      "Requirement already satisfied: fsspec>=2023.5.0 in /scratch/qt2094/anaconda3/envs/DocAssist/lib/python3.9/site-packages (from huggingface_hub) (2024.6.1)\n",
      "Requirement already satisfied: packaging>=20.9 in /scratch/qt2094/anaconda3/envs/DocAssist/lib/python3.9/site-packages (from huggingface_hub) (24.1)\n",
      "Requirement already satisfied: pyyaml>=5.1 in /scratch/qt2094/anaconda3/envs/DocAssist/lib/python3.9/site-packages (from huggingface_hub) (6.0.2)\n",
      "Requirement already satisfied: requests in /scratch/qt2094/anaconda3/envs/DocAssist/lib/python3.9/site-packages (from huggingface_hub) (2.32.3)\n",
      "Requirement already satisfied: tqdm>=4.42.1 in /scratch/qt2094/anaconda3/envs/DocAssist/lib/python3.9/site-packages (from huggingface_hub) (4.67.1)\n",
      "Requirement already satisfied: typing-extensions>=3.7.4.3 in /scratch/qt2094/anaconda3/envs/DocAssist/lib/python3.9/site-packages (from huggingface_hub) (4.11.0)\n",
      "Requirement already satisfied: charset-normalizer<4,>=2 in /scratch/qt2094/anaconda3/envs/DocAssist/lib/python3.9/site-packages (from requests->huggingface_hub) (3.3.2)\n",
      "Requirement already satisfied: idna<4,>=2.5 in /scratch/qt2094/anaconda3/envs/DocAssist/lib/python3.9/site-packages (from requests->huggingface_hub) (3.10)\n",
      "Requirement already satisfied: urllib3<3,>=1.21.1 in /scratch/qt2094/anaconda3/envs/DocAssist/lib/python3.9/site-packages (from requests->huggingface_hub) (2.2.3)\n",
      "Requirement already satisfied: certifi>=2017.4.17 in /scratch/qt2094/anaconda3/envs/DocAssist/lib/python3.9/site-packages (from requests->huggingface_hub) (2024.12.14)\n",
      "Requirement already satisfied: pandas in /scratch/qt2094/anaconda3/envs/DocAssist/lib/python3.9/site-packages (2.2.3)\n",
      "Requirement already satisfied: numpy>=1.22.4 in /scratch/qt2094/anaconda3/envs/DocAssist/lib/python3.9/site-packages (from pandas) (2.0.1)\n",
      "Requirement already satisfied: python-dateutil>=2.8.2 in /scratch/qt2094/anaconda3/envs/DocAssist/lib/python3.9/site-packages (from pandas) (2.9.0.post0)\n",
      "Requirement already satisfied: pytz>=2020.1 in /scratch/qt2094/anaconda3/envs/DocAssist/lib/python3.9/site-packages (from pandas) (2024.1)\n",
      "Requirement already satisfied: tzdata>=2022.7 in /scratch/qt2094/anaconda3/envs/DocAssist/lib/python3.9/site-packages (from pandas) (2024.2)\n",
      "Requirement already satisfied: six>=1.5 in /scratch/qt2094/anaconda3/envs/DocAssist/lib/python3.9/site-packages (from python-dateutil>=2.8.2->pandas) (1.16.0)\n"
     ]
    }
   ],
   "source": [
    "!pip install transformers\n",
    "!pip install datasets\n",
    "!pip install huggingface_hub\n",
    "!pip install pandas\n"
   ]
  },
  {
   "cell_type": "code",
   "execution_count": 5,
   "metadata": {},
   "outputs": [],
   "source": [
    "import pandas as pd\n",
    "import json\n",
    "\n",
    "df = pd.read_parquet(\"hf://datasets/FreedomIntelligence/DotaBench/data/test-00000-of-00001-aaa7e18cf6644d00.parquet\")\n",
    "\n"
   ]
  },
  {
   "cell_type": "code",
   "execution_count": null,
   "metadata": {},
   "outputs": [],
   "source": [
    "json_data = df.to_dict(orient='records')\n",
    "\n",
    "# Save to JSON file\n",
    "with open('/scratch/qt2094/DLSYS/DLSys_Final/datadotabench_dataset.json', 'w', encoding='utf-8') as f:\n",
    "    json.dump(json_data, f, ensure_ascii=False, indent=2)"
   ]
  },
  {
   "cell_type": "code",
   "execution_count": null,
   "metadata": {},
   "outputs": [],
   "source": [
    "output = model.generate(**testing_samples_token, max_new_tokens=512)\n",
    "output_text = tokenizer.decode(output[0], skip_special_tokens=True)\n"
   ]
  }
 ],
 "metadata": {
  "kernelspec": {
   "display_name": "DocAssist",
   "language": "python",
   "name": "python3"
  },
  "language_info": {
   "codemirror_mode": {
    "name": "ipython",
    "version": 3
   },
   "file_extension": ".py",
   "mimetype": "text/x-python",
   "name": "python",
   "nbconvert_exporter": "python",
   "pygments_lexer": "ipython3",
   "version": "3.9.21"
  }
 },
 "nbformat": 4,
 "nbformat_minor": 2
}
